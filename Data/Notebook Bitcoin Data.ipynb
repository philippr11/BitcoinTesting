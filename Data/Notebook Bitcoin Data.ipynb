{
 "cells": [
  {
   "cell_type": "code",
   "execution_count": 28,
   "id": "c7f1340f",
   "metadata": {},
   "outputs": [],
   "source": [
    "import pandas as pd\n",
    "import numpy as np\n",
    "import seaborn as sns\n",
    "import matplotlib.pyplot as plt\n",
    "from datetime import datetime"
   ]
  },
  {
   "cell_type": "code",
   "execution_count": 7,
   "id": "01838d96",
   "metadata": {},
   "outputs": [],
   "source": [
    "raw_data = pd.read_csv(\"transactions5.csv\")"
   ]
  },
  {
   "cell_type": "code",
   "execution_count": 3,
   "id": "08092d3a",
   "metadata": {},
   "outputs": [
    {
     "data": {
      "text/html": [
       "<div>\n",
       "<style scoped>\n",
       "    .dataframe tbody tr th:only-of-type {\n",
       "        vertical-align: middle;\n",
       "    }\n",
       "\n",
       "    .dataframe tbody tr th {\n",
       "        vertical-align: top;\n",
       "    }\n",
       "\n",
       "    .dataframe thead th {\n",
       "        text-align: right;\n",
       "    }\n",
       "</style>\n",
       "<table border=\"1\" class=\"dataframe\">\n",
       "  <thead>\n",
       "    <tr style=\"text-align: right;\">\n",
       "      <th></th>\n",
       "      <th>block_height</th>\n",
       "      <th>txid</th>\n",
       "      <th>fee_sats</th>\n",
       "      <th>fee_per_vbyte</th>\n",
       "      <th>block_timestamp</th>\n",
       "      <th>time_to_confirm_seconds</th>\n",
       "      <th>vsize</th>\n",
       "      <th>value_btc</th>\n",
       "    </tr>\n",
       "  </thead>\n",
       "  <tbody>\n",
       "    <tr>\n",
       "      <th>0</th>\n",
       "      <td>100000</td>\n",
       "      <td>8c14f0db3df150123e6f3dbbf30f8b955a8249b62ac1d1...</td>\n",
       "      <td>0</td>\n",
       "      <td>NaN</td>\n",
       "      <td>1293623863</td>\n",
       "      <td>NaN</td>\n",
       "      <td>0</td>\n",
       "      <td>50.000000</td>\n",
       "    </tr>\n",
       "    <tr>\n",
       "      <th>1</th>\n",
       "      <td>100000</td>\n",
       "      <td>fff2525b8931402dd09222c50775608f75787bd2b87e56...</td>\n",
       "      <td>0</td>\n",
       "      <td>NaN</td>\n",
       "      <td>1293623863</td>\n",
       "      <td>NaN</td>\n",
       "      <td>0</td>\n",
       "      <td>50.000000</td>\n",
       "    </tr>\n",
       "    <tr>\n",
       "      <th>2</th>\n",
       "      <td>100000</td>\n",
       "      <td>6359f0868171b1d194cbee1af2f16ea598ae8fad666d9b...</td>\n",
       "      <td>0</td>\n",
       "      <td>NaN</td>\n",
       "      <td>1293623863</td>\n",
       "      <td>NaN</td>\n",
       "      <td>0</td>\n",
       "      <td>3.000000</td>\n",
       "    </tr>\n",
       "    <tr>\n",
       "      <th>3</th>\n",
       "      <td>100000</td>\n",
       "      <td>e9a66845e05d5abc0ad04ec80f774a7e585c6e8db97596...</td>\n",
       "      <td>0</td>\n",
       "      <td>NaN</td>\n",
       "      <td>1293623863</td>\n",
       "      <td>NaN</td>\n",
       "      <td>0</td>\n",
       "      <td>0.010000</td>\n",
       "    </tr>\n",
       "    <tr>\n",
       "      <th>4</th>\n",
       "      <td>300000</td>\n",
       "      <td>b39fa6c39b99683ac8f456721b270786c627ecb2467008...</td>\n",
       "      <td>0</td>\n",
       "      <td>NaN</td>\n",
       "      <td>1399703554</td>\n",
       "      <td>NaN</td>\n",
       "      <td>0</td>\n",
       "      <td>25.040284</td>\n",
       "    </tr>\n",
       "  </tbody>\n",
       "</table>\n",
       "</div>"
      ],
      "text/plain": [
       "   block_height                                               txid  fee_sats  \\\n",
       "0        100000  8c14f0db3df150123e6f3dbbf30f8b955a8249b62ac1d1...         0   \n",
       "1        100000  fff2525b8931402dd09222c50775608f75787bd2b87e56...         0   \n",
       "2        100000  6359f0868171b1d194cbee1af2f16ea598ae8fad666d9b...         0   \n",
       "3        100000  e9a66845e05d5abc0ad04ec80f774a7e585c6e8db97596...         0   \n",
       "4        300000  b39fa6c39b99683ac8f456721b270786c627ecb2467008...         0   \n",
       "\n",
       "   fee_per_vbyte  block_timestamp  time_to_confirm_seconds  vsize  value_btc  \n",
       "0            NaN       1293623863                      NaN      0  50.000000  \n",
       "1            NaN       1293623863                      NaN      0  50.000000  \n",
       "2            NaN       1293623863                      NaN      0   3.000000  \n",
       "3            NaN       1293623863                      NaN      0   0.010000  \n",
       "4            NaN       1399703554                      NaN      0  25.040284  "
      ]
     },
     "execution_count": 3,
     "metadata": {},
     "output_type": "execute_result"
    }
   ],
   "source": [
    "raw_data.head()"
   ]
  },
  {
   "cell_type": "code",
   "execution_count": 4,
   "id": "0b7b1acc",
   "metadata": {},
   "outputs": [
    {
     "data": {
      "text/html": [
       "<div>\n",
       "<style scoped>\n",
       "    .dataframe tbody tr th:only-of-type {\n",
       "        vertical-align: middle;\n",
       "    }\n",
       "\n",
       "    .dataframe tbody tr th {\n",
       "        vertical-align: top;\n",
       "    }\n",
       "\n",
       "    .dataframe thead th {\n",
       "        text-align: right;\n",
       "    }\n",
       "</style>\n",
       "<table border=\"1\" class=\"dataframe\">\n",
       "  <thead>\n",
       "    <tr style=\"text-align: right;\">\n",
       "      <th></th>\n",
       "      <th>block_height</th>\n",
       "      <th>txid</th>\n",
       "      <th>fee_sats</th>\n",
       "      <th>fee_per_vbyte</th>\n",
       "      <th>block_timestamp</th>\n",
       "      <th>time_to_confirm_seconds</th>\n",
       "      <th>vsize</th>\n",
       "      <th>value_btc</th>\n",
       "    </tr>\n",
       "  </thead>\n",
       "  <tbody>\n",
       "    <tr>\n",
       "      <th>6728</th>\n",
       "      <td>870000</td>\n",
       "      <td>36e6a2b0c8322aec5169d38f48977859a9830a40a78102...</td>\n",
       "      <td>292</td>\n",
       "      <td>NaN</td>\n",
       "      <td>1731419746</td>\n",
       "      <td>NaN</td>\n",
       "      <td>0</td>\n",
       "      <td>0.005406</td>\n",
       "    </tr>\n",
       "    <tr>\n",
       "      <th>6729</th>\n",
       "      <td>870000</td>\n",
       "      <td>7afc3091befb1742d2e77c5d3c2007cb19c468a811f574...</td>\n",
       "      <td>438</td>\n",
       "      <td>NaN</td>\n",
       "      <td>1731419746</td>\n",
       "      <td>NaN</td>\n",
       "      <td>0</td>\n",
       "      <td>0.004475</td>\n",
       "    </tr>\n",
       "    <tr>\n",
       "      <th>6730</th>\n",
       "      <td>870000</td>\n",
       "      <td>9b1ed81da20e2974d35745def43610526d7e2da48be625...</td>\n",
       "      <td>570</td>\n",
       "      <td>NaN</td>\n",
       "      <td>1731419746</td>\n",
       "      <td>NaN</td>\n",
       "      <td>0</td>\n",
       "      <td>0.003649</td>\n",
       "    </tr>\n",
       "    <tr>\n",
       "      <th>6731</th>\n",
       "      <td>870000</td>\n",
       "      <td>8ffdb1b7af3f49b3f7295d9fa5cc51e48aa9263bf8b00c...</td>\n",
       "      <td>339</td>\n",
       "      <td>NaN</td>\n",
       "      <td>1731419746</td>\n",
       "      <td>NaN</td>\n",
       "      <td>0</td>\n",
       "      <td>0.000185</td>\n",
       "    </tr>\n",
       "    <tr>\n",
       "      <th>6732</th>\n",
       "      <td>870000</td>\n",
       "      <td>baeed65ec1c3923daa72e1435ac70b5fc85b1a3feb858c...</td>\n",
       "      <td>927</td>\n",
       "      <td>NaN</td>\n",
       "      <td>1731419746</td>\n",
       "      <td>NaN</td>\n",
       "      <td>0</td>\n",
       "      <td>0.001054</td>\n",
       "    </tr>\n",
       "  </tbody>\n",
       "</table>\n",
       "</div>"
      ],
      "text/plain": [
       "      block_height                                               txid  \\\n",
       "6728        870000  36e6a2b0c8322aec5169d38f48977859a9830a40a78102...   \n",
       "6729        870000  7afc3091befb1742d2e77c5d3c2007cb19c468a811f574...   \n",
       "6730        870000  9b1ed81da20e2974d35745def43610526d7e2da48be625...   \n",
       "6731        870000  8ffdb1b7af3f49b3f7295d9fa5cc51e48aa9263bf8b00c...   \n",
       "6732        870000  baeed65ec1c3923daa72e1435ac70b5fc85b1a3feb858c...   \n",
       "\n",
       "      fee_sats  fee_per_vbyte  block_timestamp  time_to_confirm_seconds  \\\n",
       "6728       292            NaN       1731419746                      NaN   \n",
       "6729       438            NaN       1731419746                      NaN   \n",
       "6730       570            NaN       1731419746                      NaN   \n",
       "6731       339            NaN       1731419746                      NaN   \n",
       "6732       927            NaN       1731419746                      NaN   \n",
       "\n",
       "      vsize  value_btc  \n",
       "6728      0   0.005406  \n",
       "6729      0   0.004475  \n",
       "6730      0   0.003649  \n",
       "6731      0   0.000185  \n",
       "6732      0   0.001054  "
      ]
     },
     "execution_count": 4,
     "metadata": {},
     "output_type": "execute_result"
    }
   ],
   "source": [
    "raw_data.tail()"
   ]
  },
  {
   "cell_type": "code",
   "execution_count": 15,
   "id": "c60ba237",
   "metadata": {},
   "outputs": [
    {
     "data": {
      "image/png": "[encoded data removed]",
      "text/plain": [
       "<Figure size 864x432 with 1 Axes>"
      ]
     },
     "metadata": {
      "needs_background": "light"
     },
     "output_type": "display_data"
    }
   ],
   "source": [
    "# Boxplot für fee_sats nach block_height\n",
    "plt.figure(figsize=(12, 6))  # optional: Größe des Plots anpassen\n",
    "sns.boxplot(x='block_height', y='fee_sats', data=raw_data)\n",
    "\n",
    "plt.title(\"Verteilung der transaction fees (fee_sats) pro Block\")\n",
    "plt.xlabel(\"Blockhöhe\")\n",
    "plt.ylabel(\"Gebühr in Satoshis\")\n",
    "\n",
    "plt.yscale('log')  \n",
    "\n",
    "plt.show()"
   ]
  },
  {
   "cell_type": "code",
   "execution_count": 9,
   "id": "f10e1acf",
   "metadata": {},
   "outputs": [
    {
     "name": "stdout",
     "output_type": "stream",
     "text": [
      "               Durchschnitt   Median  Günstigste  Teuerste\n",
      "block_height                                              \n",
      "100000             0.000000      0.0           0         0\n",
      "300000         16997.299578  10000.0           0    180000\n",
      "500000        125639.253980  85897.0           0   6470750\n",
      "700000         12060.062696   1512.0           0   1400000\n",
      "870000          1329.728429    453.0           0    216480\n"
     ]
    }
   ],
   "source": [
    "# average fee berechnen:\n",
    "stats_per_block = raw_data.groupby('block_height')['fee_sats'].agg(\n",
    "    Durchschnitt='mean',\n",
    "    Median='median',\n",
    "    Günstigste='min',\n",
    "    Teuerste='max'\n",
    ")\n",
    "\n",
    "print(stats_per_block)"
   ]
  },
  {
   "cell_type": "code",
   "execution_count": 36,
   "id": "30329d0c",
   "metadata": {},
   "outputs": [
    {
     "name": "stdout",
     "output_type": "stream",
     "text": [
      "Anzahl der Transaktionen pro Block:\n",
      "block_height\n",
      "100000       4\n",
      "300000     237\n",
      "500000    2701\n",
      "700000    1276\n",
      "870000    2515\n",
      "Name: txid, dtype: int64\n"
     ]
    }
   ],
   "source": [
    "#noch Anzahl Transaktionen allgemein\n",
    "transactions_per_block = raw_data.groupby('block_height')['txid'].count()\n",
    "\n",
    "# Ausgabe der Ergebnisse\n",
    "print(\"Anzahl der Transaktionen pro Block:\")\n",
    "print(transactions_per_block)"
   ]
  },
  {
   "cell_type": "code",
   "execution_count": 14,
   "id": "5303d1a4",
   "metadata": {},
   "outputs": [
    {
     "data": {
      "image/png": "[encoded data removed]",
      "text/plain": [
       "<Figure size 864x432 with 1 Axes>"
      ]
     },
     "metadata": {
      "needs_background": "light"
     },
     "output_type": "display_data"
    }
   ],
   "source": [
    "# korrelation zwischen fees und höhe der transaktionen:\n",
    "plt.figure(figsize=(12, 6))\n",
    "sns.boxplot(x='block_height', y='value_btc', data=raw_data)\n",
    "\n",
    "plt.title(\"Verteilung der übertragenen BTC-Mengen pro Transaktion nach Block\")\n",
    "plt.xlabel(\"Blockhöhe\")\n",
    "plt.ylabel(\"Übertragene Menge (BTC)\")\n",
    "plt.yscale('log')\n",
    "\n",
    "# Optional: Falls große Spannweite, logarithmische Skalierung anwenden\n",
    "# plt.yscale('symlog')\n",
    "\n",
    "plt.show()\n",
    "#erwähnen dass log gescaled wurde!"
   ]
  },
  {
   "cell_type": "code",
   "execution_count": 21,
   "id": "bdeff042",
   "metadata": {},
   "outputs": [
    {
     "data": {
      "image/png": "[encoded data removed]",
      "text/plain": [
       "<Figure size 720x432 with 1 Axes>"
      ]
     },
     "metadata": {
      "needs_background": "light"
     },
     "output_type": "display_data"
    }
   ],
   "source": [
    "raw_data['value_btc'] = pd.to_numeric(raw_data['value_btc'], errors='coerce')\n",
    "raw_data['fee_sats'] = pd.to_numeric(raw_data['fee_sats'], errors='coerce')\n",
    "\n",
    "# Optional: Entferne Zeilen mit fehlenden Werten in den relevanten Spalten\n",
    "df_clean = raw_data.dropna(subset=['value_btc', 'fee_sats'])\n",
    "\n",
    "# Erstelle ein Scatterplot mit Regressionslinie\n",
    "plt.figure(figsize=(10, 6))\n",
    "sns.regplot(x='value_btc', y='fee_sats', data=df_clean,\n",
    "            scatter_kws={'alpha':0.5}, line_kws={'color':'red'})\n",
    "\n",
    "plt.title(\"Zusammenhang zwischen Transaktionswert und Gebühr\")\n",
    "plt.xlabel(\"Transaktionswert (BTC)\")\n",
    "plt.ylabel(\"Gebühr (Satoshis)\")\n",
    "\n",
    "# Falls die Daten sehr stark streuen oder Ausreißer enthalten,\n",
    "# können logarithmische Skalierungen helfen, Zusammenhänge besser darzustellen:\n",
    "plt.xscale('log')\n",
    "#plt.yscale('log')\n",
    "\n",
    "plt.show()"
   ]
  },
  {
   "cell_type": "code",
   "execution_count": 22,
   "id": "d8cda6d7",
   "metadata": {},
   "outputs": [
    {
     "name": "stdout",
     "output_type": "stream",
     "text": [
      "Korrelation zwischen Transaktionswert und Gebühr: -0.002295825783904763\n"
     ]
    }
   ],
   "source": [
    "correlation = df_clean['value_btc'].corr(df_clean['fee_sats'])\n",
    "print(\"Korrelation zwischen Transaktionswert und Gebühr:\", correlation)\n"
   ]
  },
  {
   "cell_type": "code",
   "execution_count": 24,
   "id": "004391df",
   "metadata": {},
   "outputs": [],
   "source": [
    "## kaum Korrelation! rote Korrelationskurve sehr flach\n"
   ]
  },
  {
   "cell_type": "markdown",
   "id": "27b82939",
   "metadata": {},
   "source": [
    "### Daten von mempool.space\n",
    "statista anführen?\n",
    "https://www.statista.com/statistics/793539/bitcoin-transaction-confirmation-time/\n",
    "\n",
    "‎2024-11-12 14:55:20 \n",
    "‎2024-11-12 14:55:46 --> 26 Sekunden \n",
    "\n",
    "‎2021-09-11 05:59:13\n",
    "‎2021-09-11 06:14:32 --> 15 Minuten, 19 Sekunden\n",
    "\n",
    "‎2017-12-18 19:34:47\n",
    "‎2017-12-18 19:35:25 --> 38 Sekunden\n",
    "\n",
    "‎2014-05-10 08:25:50 \n",
    "‎2014-05-10 08:32:34 --> 6 Minuten, 44 Sekunden\n",
    "\n",
    "‎2010-12-29 12:55:31\n",
    "‎2010-12-29 12:57:43 --> 2 Minuten, 12 Sekunden\n",
    "\n"
   ]
  },
  {
   "cell_type": "code",
   "execution_count": null,
   "id": "ffc48777",
   "metadata": {},
   "outputs": [],
   "source": []
  }
 ],
 "metadata": {
  "kernelspec": {
   "display_name": "Python 3 (ipykernel)",
   "language": "python",
   "name": "python3"
  },
  "language_info": {
   "codemirror_mode": {
    "name": "ipython",
    "version": 3
   },
   "file_extension": ".py",
   "mimetype": "text/x-python",
   "name": "python",
   "nbconvert_exporter": "python",
   "pygments_lexer": "ipython3",
   "version": "3.9.12"
  }
 },
 "nbformat": 4,
 "nbformat_minor": 5
}
